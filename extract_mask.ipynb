{
 "cells": [
  {
   "cell_type": "code",
   "execution_count": null,
   "metadata": {},
   "outputs": [],
   "source": [
    "import os \n",
    "os.environ[\"CUDA_VISIBLE_DEVICES\"] = \"3\" # put -1 to not use any\n",
    "\n",
    "# import sys\n",
    "# sys.path.append('segment-anything')"
   ]
  },
  {
   "cell_type": "code",
   "execution_count": null,
   "metadata": {},
   "outputs": [],
   "source": [
    "import numpy as np\n",
    "import pandas as pd \n",
    "import os \n",
    "import matplotlib.pyplot as plt\n",
    "import os \n",
    "import cv2\n",
    "import torch\n",
    "from segment_anything import sam_model_registry, SamPredictor, SamAutomaticMaskGenerator\n",
    "import SimpleITK as sitk"
   ]
  },
  {
   "cell_type": "markdown",
   "metadata": {},
   "source": [
    "## hysterectomy Data"
   ]
  },
  {
   "cell_type": "code",
   "execution_count": 4,
   "metadata": {},
   "outputs": [],
   "source": [
    "CHECKPOINT_PATH='ckp/sam/sam_vit_h_4b8939.pth'\n",
    "DATA_DIR = '/CMF/data/lumargot/hysterectomy/Instrument_Annotations/'\n",
    "\n",
    "\n",
    "device = torch.device('cuda:0' if torch.cuda.is_available() else 'cpu')\n",
    "sam = sam_model_registry[\"vit_h\"](checkpoint=CHECKPOINT_PATH).to(device=device)\n",
    "mask_predictor = SamPredictor(sam)"
   ]
  },
  {
   "cell_type": "code",
   "execution_count": null,
   "metadata": {},
   "outputs": [],
   "source": [
    "ref_vid_dir = os.path.join(DATA_DIR, 'Reference_Videos/')\n",
    "\n",
    "\n",
    "for vid_name in os.listdir(ref_vid_dir):\n",
    "    \n",
    "    vid_dir = os.path.join(ref_vid_dir, vid_name)\n",
    "    vid_csv = os.path.join(DATA_DIR,  vid_name + '_InstrumentAnnotations.csv')\n",
    "\n",
    "    df = pd.read_csv(vid_csv)\n",
    "\n",
    "    if not os.path.isdir(vid_dir):\n",
    "        targets = [vid_dir]\n",
    "    else:\n",
    "        targets = []\n",
    "        for frame_n in os.listdir(vid_dir):\n",
    "            img = os.path.join(vid_dir, frame_n, '0/images',  frame_n+ '.png')\n",
    "            targets.append(img)\n",
    "\n",
    "    df_mask = []\n",
    "    i=0\n",
    "\n",
    "    for t in targets:\n",
    "        print(f\"Processing '{t}' : idx {i} / {len(targets)}\")\n",
    "        i+=1\n",
    "        base = os.path.basename(t)\n",
    "        frame_n = os.path.splitext(base)[0]\n",
    "\n",
    "        image = cv2.imread(t)\n",
    "        h,w = image.shape[:2] \n",
    "        if image is None:\n",
    "            print(f\"Could not load '{t}' as an image, skipping...\")\n",
    "            continue\n",
    "        image = cv2.cvtColor(image, cv2.COLOR_BGR2RGB)\n",
    "        \n",
    "        df_img = df.loc[df['Frame']==int(frame_n)]\n",
    "        \n",
    "        save_base = t.split('images')[0]\n",
    "        # save_base = os.path.join(args.output, base)\n",
    "\n",
    "        save_base = os.path.join(save_base, 'binary_annotations')\n",
    "        list_bbx = []\n",
    "        \n",
    "        os.makedirs(save_base, exist_ok=True)\n",
    "        for idx, row in df_img.iterrows():\n",
    "\n",
    "            x1 = max(row['XTL'], 0)\n",
    "            y1 = max(row['YTL'], 0)\n",
    "\n",
    "            x2 = min(row['XBR'], w)\n",
    "            y2 = min(row['YBR'], h)\n",
    "\n",
    "            label = row['Label']\n",
    "\n",
    "            bbx = np.array([x1, y1, x2, y2])\n",
    "\n",
    "            mask_predictor.set_image(image)\n",
    "            masks, scores, logits = mask_predictor.predict(box = bbx, multimask_output=False, point_coords=None, point_labels=None)\n",
    "            mask = masks[0,...].astype(int)\n",
    "\n",
    "            filename = os.path.join(save_base, f\"{frame_n}_class{label}.png\")  \n",
    "\n",
    "            cv2.imwrite(filename, mask * 255)\n",
    "            "
   ]
  }
 ],
 "metadata": {
  "kernelspec": {
   "display_name": "Python 3 (ipykernel)",
   "language": "python",
   "name": "python3"
  },
  "language_info": {
   "codemirror_mode": {
    "name": "ipython",
    "version": 3
   },
   "file_extension": ".py",
   "mimetype": "text/x-python",
   "name": "python",
   "nbconvert_exporter": "python",
   "pygments_lexer": "ipython3",
   "version": "3.8.17"
  }
 },
 "nbformat": 4,
 "nbformat_minor": 4
}
